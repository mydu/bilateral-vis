{
 "cells": [
  {
   "cell_type": "code",
   "execution_count": 1,
   "metadata": {
    "collapsed": false
   },
   "outputs": [
    {
     "name": "stderr",
     "output_type": "stream",
     "text": [
      "/usr/local/lib/python2.7/dist-packages/IPython/core/interactiveshell.py:2809: DtypeWarning: Columns (8,11) have mixed types. Specify dtype option on import or set low_memory=False.\n",
      "  if self.run_code(code, result):\n"
     ]
    }
   ],
   "source": [
    "import pandas as pd\n",
    "import numpy as np\n",
    "from GTC_function import *\n",
    "import networkx as nx\n",
    "from matplotlib import pyplot as plt\n",
    "%matplotlib inline"
   ]
  },
  {
   "cell_type": "code",
   "execution_count": 12,
   "metadata": {
    "collapsed": true
   },
   "outputs": [],
   "source": [
    "GT1920 = Graph_GT(year = 1968)"
   ]
  },
  {
   "cell_type": "code",
   "execution_count": 13,
   "metadata": {
    "collapsed": false
   },
   "outputs": [
    {
     "data": {
      "text/plain": [
       "True"
      ]
     },
     "execution_count": 13,
     "metadata": {},
     "output_type": "execute_result"
    }
   ],
   "source": [
    "type(GT1920.df.iloc[:,[2,5,7]].Flow____0.values[0])==np.float64"
   ]
  },
  {
   "cell_type": "code",
   "execution_count": 14,
   "metadata": {
    "collapsed": false,
    "scrolled": false
   },
   "outputs": [
    {
     "data": {
      "text/plain": [
       "True"
      ]
     },
     "execution_count": 14,
     "metadata": {},
     "output_type": "execute_result"
    }
   ],
   "source": [
    "type(3.) == float"
   ]
  },
  {
   "cell_type": "code",
   "execution_count": 15,
   "metadata": {
    "collapsed": false
   },
   "outputs": [],
   "source": [
    "gra = GT1920.graph()"
   ]
  },
  {
   "cell_type": "code",
   "execution_count": 16,
   "metadata": {
    "collapsed": false
   },
   "outputs": [],
   "source": [
    "#nx.spectral_layout(gra,dim =10)"
   ]
  },
  {
   "cell_type": "code",
   "execution_count": 17,
   "metadata": {
    "collapsed": false,
    "scrolled": true
   },
   "outputs": [],
   "source": [
    "class_dict = spectral_clustering(dim_spec = 2, n_cluster = 14, graph = gra)"
   ]
  },
  {
   "cell_type": "code",
   "execution_count": 21,
   "metadata": {
    "collapsed": false
   },
   "outputs": [
    {
     "data": {
      "text/plain": [
       "{'Afghanistan': 9,\n",
       " 'Africa (other)': 0,\n",
       " 'Albania': 9,\n",
       " 'Algeria': 9,\n",
       " 'America (other)': 9,\n",
       " 'American Samoa': 9,\n",
       " 'Angola': 10,\n",
       " 'Antigua & Barbuda': 8,\n",
       " 'Argentina': 9,\n",
       " 'Asia (other)': 9,\n",
       " 'Australia': 0,\n",
       " 'Austria': 0,\n",
       " 'Bahamas': 5,\n",
       " 'Bahrain': 9,\n",
       " 'Barbados': 9,\n",
       " 'Belgium & Luxembourg': 8,\n",
       " 'Belize (British Honduras)': 0,\n",
       " 'Benin (Dahomey)': 0,\n",
       " 'Bermuda': 9,\n",
       " 'Bolivia': 9,\n",
       " 'Botswana (Bechuanaland)': 9,\n",
       " 'Brazil': 0,\n",
       " 'Brunei': 9,\n",
       " 'Bulgaria': 9,\n",
       " 'Burkina Faso (Upper Volta)': 0,\n",
       " 'Burma (Myanmar)': 9,\n",
       " 'Burundi': 9,\n",
       " 'Cameroun (French Cameroons)': 9,\n",
       " 'Canada': 9,\n",
       " 'Cape Verde': 10,\n",
       " 'Central African Republic': 9,\n",
       " 'Chad': 9,\n",
       " 'Chile': 9,\n",
       " \"China (People's Republic of China)\": 3,\n",
       " 'Colombia (Gran Colombia)': 9,\n",
       " 'Comoros': 2,\n",
       " 'Congo (Brazzaville) (French Congo) (Middle Congo)': 9,\n",
       " 'Costa Rica': 9,\n",
       " 'Cuba': 9,\n",
       " 'Cyprus': 9,\n",
       " 'Czechoslovakia': 9,\n",
       " 'Denmark': 9,\n",
       " 'Djibouti (Afar and Issas) (French Somaliland)': 9,\n",
       " 'Dominica': 9,\n",
       " 'Dominican Republic (Santo Domingo)': 9,\n",
       " 'East Timor': 12,\n",
       " 'Ecuador': 9,\n",
       " 'Egypt/United Arab Republic': 9,\n",
       " 'El Salvador': 9,\n",
       " 'Equatorial Guinea (Spanish Guinea)': 9,\n",
       " 'Ethiopia (Abyssinia)': 9,\n",
       " 'Europe (other)': 9,\n",
       " 'Faeroe Is.': 9,\n",
       " 'Falkland Is.': 9,\n",
       " 'Fiji': 9,\n",
       " 'Finland': 9,\n",
       " 'France': 8,\n",
       " 'French Guyana': 0,\n",
       " 'French Polynesia': 9,\n",
       " 'Gabon': 9,\n",
       " 'Gambia': 13,\n",
       " 'German Democratic Republic': 9,\n",
       " 'German Federal Republic': 9,\n",
       " 'Ghana (Gold Coast)': 9,\n",
       " 'Gibraltar': 9,\n",
       " 'Greece': 9,\n",
       " 'Greenland': 9,\n",
       " 'Grenada': 0,\n",
       " 'Guadeloupe': 9,\n",
       " 'Guam': 9,\n",
       " 'Guatemala': 9,\n",
       " 'Guinea (French Guinea) (Rivieres du Sud)': 9,\n",
       " 'Guinea-Bissau (Portuguese Guinea)': 13,\n",
       " 'Guyana (Br. Guiana)': 9,\n",
       " 'Haiti': 0,\n",
       " 'Honduras': 9,\n",
       " 'Hong Kong': 9,\n",
       " 'Hungary': 9,\n",
       " 'Iceland': 13,\n",
       " 'India': 0,\n",
       " 'Indonesia (Dutch East Indies)': 9,\n",
       " 'Iran (Persia)': 9,\n",
       " 'Iraq (Mesopotamia)': 9,\n",
       " 'Ireland': 9,\n",
       " 'Israel': 9,\n",
       " 'Italy': 0,\n",
       " 'Ivory Coast': 0,\n",
       " 'Jamaica': 13,\n",
       " 'Japan': 9,\n",
       " 'Jordan (Transjordan)': 13,\n",
       " 'Kampuchea (Cambodia)': 9,\n",
       " 'Kenya (British East Africa Protectorate)': 9,\n",
       " 'Kiribati': 7,\n",
       " \"Korea Democratic People's Republic of\": 9,\n",
       " 'Korea Republic of': 0,\n",
       " 'Kuwait': 9,\n",
       " 'Laos': 9,\n",
       " 'Lebanon': 9,\n",
       " 'Lesotho (Basutoland)': 13,\n",
       " 'Liberia': 9,\n",
       " 'Libya (Tripolitania Cyrenaica Fezzan)': 10,\n",
       " 'Macao': 13,\n",
       " 'Malagasy Republic (Madagascar)': 0,\n",
       " 'Malawi (Nyasaland)': 13,\n",
       " 'Malaysia (Malaya)': 9,\n",
       " 'Maldive Islands': 6,\n",
       " 'Mali (French Sudan) (Upper Senegal and Niger)': 0,\n",
       " 'Malta': 9,\n",
       " 'Martinique': 9,\n",
       " 'Mauritania': 0,\n",
       " 'Mauritius': 0,\n",
       " 'Mexico': 9,\n",
       " 'Middle East (other)': 13,\n",
       " 'Mongolia': 10,\n",
       " 'Montserrat': 10,\n",
       " 'Morocco': 9,\n",
       " 'Mozambique': 13,\n",
       " 'Nauru': 0,\n",
       " 'Nepal': 9,\n",
       " 'Netherlands': 9,\n",
       " 'Netherlands Antilles': 9,\n",
       " 'New Caledonia': 9,\n",
       " 'New Zealand': 0,\n",
       " 'Nicaragua': 9,\n",
       " 'Niger': 9,\n",
       " 'Nigeria': 9,\n",
       " 'Norway': 0,\n",
       " 'Oceania (other)': 0,\n",
       " 'Oman': 10,\n",
       " 'Other countries': 9,\n",
       " 'Pakistan': 9,\n",
       " 'Panama': 9,\n",
       " 'Panama Canal Zone': 9,\n",
       " 'Papua New Guinea': 9,\n",
       " 'Paraguay': 9,\n",
       " 'Peru': 9,\n",
       " 'Philippines': 9,\n",
       " 'Poland': 9,\n",
       " 'Portugal': 9,\n",
       " 'Qatar': 9,\n",
       " 'Republic of China (Taiwan) (Formosa)': 9,\n",
       " 'Reunion': 9,\n",
       " 'Romania': 9,\n",
       " 'Russia/USSR': 8,\n",
       " 'Rwanda': 8,\n",
       " 'RyukyuIs.': 9,\n",
       " 'Sao Tome-Principe': 11,\n",
       " 'Saudi Arabia': 9,\n",
       " 'Senegal': 9,\n",
       " 'Seychelles': 11,\n",
       " 'Sierra Leone': 9,\n",
       " 'Singapore': 9,\n",
       " 'Solomon Islands': 9,\n",
       " 'Somalia': 9,\n",
       " 'South Africa': 9,\n",
       " 'South West Africa (German West Africa) (Namibia)': 1,\n",
       " 'Spain': 9,\n",
       " 'Sri Lanka (Ceylon)': 9,\n",
       " 'St. Lucia': 10,\n",
       " 'St. Pierre and Miquelon': 10,\n",
       " 'St. Vincent and the Grenadines': 0,\n",
       " 'Sudan (Anglo-Egyptian)': 9,\n",
       " 'Surinam': 9,\n",
       " 'Swaziland': 13,\n",
       " 'Sweden': 0,\n",
       " 'Switzerland': 9,\n",
       " 'Syria': 9,\n",
       " 'Tanzania (Tanganyika) (German east Africa)': 0,\n",
       " 'Thailand (Siam)': 9,\n",
       " 'Togo (French Togoland)': 9,\n",
       " 'Tonga': 6,\n",
       " 'Trinidad and Tobago': 9,\n",
       " 'Tunisia': 9,\n",
       " 'Turkey': 0,\n",
       " 'Uganda': 9,\n",
       " 'United Arab Emirates': 9,\n",
       " 'United Kingdom': 9,\n",
       " 'United States of America': 9,\n",
       " 'Uruguay': 9,\n",
       " 'Vanuatu (New Hebrides)': 0,\n",
       " 'Venezuela': 9,\n",
       " 'Vietnam': 0,\n",
       " 'Western Samoa': 11,\n",
       " 'World': 9,\n",
       " 'Yemen Arab Republic': 9,\n",
       " \"Yemen People's Republic\": 0,\n",
       " 'Yugoslavia/Serbia': 9,\n",
       " 'Zaire (Kinshasa) (Belgian Congo)': 9,\n",
       " 'Zambia (Northern Rhodesia)': 4,\n",
       " 'Zimbabwe (Rhodesia) (Southern Rhodesia)': 9}"
      ]
     },
     "execution_count": 21,
     "metadata": {},
     "output_type": "execute_result"
    }
   ],
   "source": [
    "class_dict"
   ]
  },
  {
   "cell_type": "code",
   "execution_count": 19,
   "metadata": {
    "collapsed": false
   },
   "outputs": [
    {
     "data": {
      "image/png": "[encoded data removed]",
      "text/plain": [
       "<matplotlib.figure.Figure at 0x7f0460be8a50>"
      ]
     },
     "metadata": {},
     "output_type": "display_data"
    }
   ],
   "source": [
    "nx.draw_spectral(gra)"
   ]
  },
  {
   "cell_type": "code",
   "execution_count": null,
   "metadata": {
    "collapsed": true
   },
   "outputs": [],
   "source": []
  },
  {
   "cell_type": "code",
   "execution_count": null,
   "metadata": {
    "collapsed": true
   },
   "outputs": [],
   "source": []
  }
 ],
 "metadata": {
  "kernelspec": {
   "display_name": "Python 2",
   "language": "python",
   "name": "python2"
  },
  "language_info": {
   "codemirror_mode": {
    "name": "ipython",
    "version": 2
   },
   "file_extension": ".py",
   "mimetype": "text/x-python",
   "name": "python",
   "nbconvert_exporter": "python",
   "pygments_lexer": "ipython2",
   "version": "2.7.12"
  }
 },
 "nbformat": 4,
 "nbformat_minor": 0
}
