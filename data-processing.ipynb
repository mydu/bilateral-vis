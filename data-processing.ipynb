{
 "cells": [
  {
   "cell_type": "code",
   "execution_count": 1,
   "metadata": {
    "collapsed": false
   },
   "outputs": [
    {
     "name": "stderr",
     "output_type": "stream",
     "text": [
      "/usr/local/lib/python2.7/dist-packages/IPython/core/interactiveshell.py:2809: DtypeWarning: Columns (8,11) have mixed types. Specify dtype option on import or set low_memory=False.\n",
      "  if self.run_code(code, result):\n"
     ]
    }
   ],
   "source": [
    "import pandas as pd\n",
    "import numpy as np\n",
    "from GTC_function import *\n",
    "import networkx as nx\n",
    "from matplotlib import pyplot as plt\n",
    "%matplotlib inline"
   ]
  },
  {
   "cell_type": "code",
   "execution_count": 28,
   "metadata": {
    "collapsed": true
   },
   "outputs": [],
   "source": [
    "GT1920 = Graph_GT(year = 1990)"
   ]
  },
  {
   "cell_type": "code",
   "execution_count": 29,
   "metadata": {
    "collapsed": false
   },
   "outputs": [
    {
     "data": {
      "text/plain": [
       "True"
      ]
     },
     "execution_count": 29,
     "metadata": {},
     "output_type": "execute_result"
    }
   ],
   "source": [
    "type(GT1920.df.iloc[:,[2,5,7]].Flow____0.values[0])==np.float64"
   ]
  },
  {
   "cell_type": "code",
   "execution_count": 30,
   "metadata": {
    "collapsed": false,
    "scrolled": false
   },
   "outputs": [
    {
     "data": {
      "text/plain": [
       "True"
      ]
     },
     "execution_count": 30,
     "metadata": {},
     "output_type": "execute_result"
    }
   ],
   "source": [
    "type(3.) == float"
   ]
  },
  {
   "cell_type": "code",
   "execution_count": 31,
   "metadata": {
    "collapsed": false
   },
   "outputs": [],
   "source": [
    "gra = GT1920.graph()"
   ]
  },
  {
   "cell_type": "code",
   "execution_count": 32,
   "metadata": {
    "collapsed": false
   },
   "outputs": [],
   "source": [
    "#nx.spectral_layout(gra,dim =10)"
   ]
  },
  {
   "cell_type": "code",
   "execution_count": 33,
   "metadata": {
    "collapsed": false,
    "scrolled": true
   },
   "outputs": [],
   "source": [
    "class_dict = spectral_clustering(dim_spec = 2, n_cluster = 14, graph = gra)"
   ]
  },
  {
   "cell_type": "code",
   "execution_count": 34,
   "metadata": {
    "collapsed": false
   },
   "outputs": [
    {
     "data": {
      "text/plain": [
       "{'Afghanistan': 13,\n",
       " 'Africa (other)': 0,\n",
       " 'Albania': 9,\n",
       " 'Algeria': 13,\n",
       " 'America (other)': 13,\n",
       " 'American Samoa': 0,\n",
       " 'Angola': 0,\n",
       " 'Antigua & Barbuda': 8,\n",
       " 'Argentina': 6,\n",
       " 'Aruba': 9,\n",
       " 'Asia (other)': 9,\n",
       " 'Australia': 11,\n",
       " 'Austria': 0,\n",
       " 'Bahamas': 6,\n",
       " 'Bahrain': 0,\n",
       " 'Bangladesh': 13,\n",
       " 'Barbados': 9,\n",
       " 'Belgium & Luxembourg': 13,\n",
       " 'Belize (British Honduras)': 13,\n",
       " 'Benin (Dahomey)': 9,\n",
       " 'Bermuda': 8,\n",
       " 'Bhutan': 7,\n",
       " 'Bolivia': 13,\n",
       " 'Botswana (Bechuanaland)': 13,\n",
       " 'Brazil': 9,\n",
       " 'Brunei': 0,\n",
       " 'Bulgaria': 0,\n",
       " 'Burkina Faso (Upper Volta)': 9,\n",
       " 'Burma (Myanmar)': 0,\n",
       " 'Burundi': 4,\n",
       " 'Cameroun (French Cameroons)': 0,\n",
       " 'Canada': 13,\n",
       " 'Cape Verde': 13,\n",
       " 'Central African Republic': 5,\n",
       " 'Chad': 8,\n",
       " 'Chile': 4,\n",
       " \"China (People's Republic of China)\": 13,\n",
       " 'Colombia (Gran Colombia)': 13,\n",
       " 'Comoros': 11,\n",
       " 'Congo (Brazzaville) (French Congo) (Middle Congo)': 0,\n",
       " 'Costa Rica': 13,\n",
       " 'Cuba': 13,\n",
       " 'Cyprus': 9,\n",
       " 'Czechoslovakia': 13,\n",
       " 'Denmark': 0,\n",
       " 'Djibouti (Afar and Issas) (French Somaliland)': 13,\n",
       " 'Dominica': 0,\n",
       " 'Dominican Republic (Santo Domingo)': 13,\n",
       " 'Ecuador': 13,\n",
       " 'Egypt/United Arab Republic': 13,\n",
       " 'El Salvador': 13,\n",
       " 'Equatorial Guinea (Spanish Guinea)': 13,\n",
       " 'Ethiopia (Abyssinia)': 0,\n",
       " 'Europe (other)': 0,\n",
       " 'Faeroe Is.': 13,\n",
       " 'Falkland Is.': 0,\n",
       " 'Fiji': 13,\n",
       " 'Finland': 0,\n",
       " 'France': 4,\n",
       " 'French Guyana': 13,\n",
       " 'French Polynesia': 13,\n",
       " 'Gabon': 0,\n",
       " 'Gambia': 0,\n",
       " 'Germany': 13,\n",
       " 'Ghana (Gold Coast)': 0,\n",
       " 'Gibraltar': 0,\n",
       " 'Greece': 0,\n",
       " 'Greenland': 9,\n",
       " 'Grenada': 0,\n",
       " 'Guadeloupe': 0,\n",
       " 'Guam': 9,\n",
       " 'Guatemala': 12,\n",
       " 'Guinea (French Guinea) (Rivieres du Sud)': 9,\n",
       " 'Guinea-Bissau (Portuguese Guinea)': 8,\n",
       " 'Guyana (Br. Guiana)': 4,\n",
       " 'Haiti': 0,\n",
       " 'Honduras': 0,\n",
       " 'Hong Kong': 7,\n",
       " 'Hungary': 13,\n",
       " 'Iceland': 4,\n",
       " 'India': 13,\n",
       " 'Indonesia (Dutch East Indies)': 13,\n",
       " 'Iran (Persia)': 13,\n",
       " 'Iraq (Mesopotamia)': 9,\n",
       " 'Ireland': 9,\n",
       " 'Israel': 13,\n",
       " 'Italy': 13,\n",
       " 'Ivory Coast': 0,\n",
       " 'Jamaica': 9,\n",
       " 'Japan': 9,\n",
       " 'Jordan (Transjordan)': 9,\n",
       " 'Kampuchea (Cambodia)': 7,\n",
       " 'Kenya (British East Africa Protectorate)': 9,\n",
       " 'Kiribati': 13,\n",
       " \"Korea Democratic People's Republic of\": 13,\n",
       " 'Korea Republic of': 13,\n",
       " 'Kuwait': 13,\n",
       " 'Laos': 4,\n",
       " 'Lebanon': 0,\n",
       " 'Lesotho (Basutoland)': 7,\n",
       " 'Liberia': 13,\n",
       " 'Libya (Tripolitania Cyrenaica Fezzan)': 12,\n",
       " 'Macao': 13,\n",
       " 'Malagasy Republic (Madagascar)': 13,\n",
       " 'Malawi (Nyasaland)': 0,\n",
       " 'Malaysia (Malaya)': 0,\n",
       " 'Maldive Islands': 12,\n",
       " 'Mali (French Sudan) (Upper Senegal and Niger)': 13,\n",
       " 'Malta': 0,\n",
       " 'Martinique': 0,\n",
       " 'Mauritania': 9,\n",
       " 'Mauritius': 13,\n",
       " 'Mexico': 13,\n",
       " 'Middle East (other)': 8,\n",
       " 'Mongolia': 12,\n",
       " 'Morocco': 13,\n",
       " 'Mozambique': 12,\n",
       " 'Nauru': 12,\n",
       " 'Nepal': 9,\n",
       " 'Netherlands': 13,\n",
       " 'Netherlands Antilles': 13,\n",
       " 'New Caledonia': 9,\n",
       " 'New Zealand': 13,\n",
       " 'Nicaragua': 9,\n",
       " 'Niger': 2,\n",
       " 'Nigeria': 0,\n",
       " 'Norway': 3,\n",
       " 'Oceania (other)': 13,\n",
       " 'Oman': 0,\n",
       " 'Other countries': 1,\n",
       " 'Pakistan': 13,\n",
       " 'Panama': 13,\n",
       " 'Papua New Guinea': 0,\n",
       " 'Paraguay': 0,\n",
       " 'Peru': 0,\n",
       " 'Philippines': 0,\n",
       " 'Poland': 13,\n",
       " 'Portugal': 0,\n",
       " 'Qatar': 13,\n",
       " 'Republic of China (Taiwan) (Formosa)': 13,\n",
       " 'Reunion': 4,\n",
       " 'Romania': 13,\n",
       " 'Russia/USSR': 11,\n",
       " 'Rwanda': 4,\n",
       " 'Sao Tome-Principe': 10,\n",
       " 'Saudi Arabia': 13,\n",
       " 'Senegal': 0,\n",
       " 'Seychelles': 13,\n",
       " 'Sierra Leone': 0,\n",
       " 'Singapore': 13,\n",
       " 'Solomon Islands': 13,\n",
       " 'Somalia': 13,\n",
       " 'South Africa': 13,\n",
       " 'South West Africa (German West Africa) (Namibia)': 8,\n",
       " 'Spain': 12,\n",
       " 'Sri Lanka (Ceylon)': 0,\n",
       " 'St. Helena': 9,\n",
       " 'St. Kitts-Nevis': 13,\n",
       " 'St. Lucia': 13,\n",
       " 'St. Pierre and Miquelon': 6,\n",
       " 'St. Vincent and the Grenadines': 13,\n",
       " 'Sudan (Anglo-Egyptian)': 0,\n",
       " 'Surinam': 9,\n",
       " 'Swaziland': 9,\n",
       " 'Sweden': 4,\n",
       " 'Switzerland': 13,\n",
       " 'Syria': 13,\n",
       " 'Tanzania (Tanganyika) (German east Africa)': 11,\n",
       " 'Thailand (Siam)': 13,\n",
       " 'Togo (French Togoland)': 13,\n",
       " 'Tonga': 3,\n",
       " 'Trinidad and Tobago': 0,\n",
       " 'Tunisia': 13,\n",
       " 'Turkey': 13,\n",
       " 'Tuvalu': 0,\n",
       " 'Uganda': 13,\n",
       " 'United Arab Emirates': 13,\n",
       " 'United Kingdom': 13,\n",
       " 'United States of America': 9,\n",
       " 'Uruguay': 12,\n",
       " 'Vanuatu (New Hebrides)': 9,\n",
       " 'Venezuela': 13,\n",
       " 'Vietnam': 13,\n",
       " 'Western Samoa': 7,\n",
       " 'World': 0,\n",
       " 'Yemen': 0,\n",
       " 'Yemen Arab Republic': 0,\n",
       " 'Yugoslavia/Serbia': 0,\n",
       " 'Zaire (Kinshasa) (Belgian Congo)': 13,\n",
       " 'Zambia (Northern Rhodesia)': 3,\n",
       " 'Zimbabwe (Rhodesia) (Southern Rhodesia)': 13}"
      ]
     },
     "execution_count": 34,
     "metadata": {},
     "output_type": "execute_result"
    }
   ],
   "source": [
    "class_dict"
   ]
  },
  {
   "cell_type": "code",
   "execution_count": 35,
   "metadata": {
    "collapsed": false
   },
   "outputs": [
    {
     "data": {
      "image/png": "[encoded data removed]",
      "text/plain": [
       "<matplotlib.figure.Figure at 0x7f046039e6d0>"
      ]
     },
     "metadata": {},
     "output_type": "display_data"
    }
   ],
   "source": [
    "nx.draw_spectral(gra)"
   ]
  },
  {
   "cell_type": "code",
   "execution_count": null,
   "metadata": {
    "collapsed": true
   },
   "outputs": [],
   "source": []
  },
  {
   "cell_type": "code",
   "execution_count": null,
   "metadata": {
    "collapsed": true
   },
   "outputs": [],
   "source": []
  }
 ],
 "metadata": {
  "kernelspec": {
   "display_name": "Python 2",
   "language": "python",
   "name": "python2"
  },
  "language_info": {
   "codemirror_mode": {
    "name": "ipython",
    "version": 2
   },
   "file_extension": ".py",
   "mimetype": "text/x-python",
   "name": "python",
   "nbconvert_exporter": "python",
   "pygments_lexer": "ipython2",
   "version": "2.7.12"
  }
 },
 "nbformat": 4,
 "nbformat_minor": 0
}
