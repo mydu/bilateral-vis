{
 "cells": [
  {
   "cell_type": "code",
   "execution_count": 1,
   "metadata": {
    "collapsed": false
   },
   "outputs": [
    {
     "name": "stderr",
     "output_type": "stream",
     "text": [
      "/usr/local/lib/python2.7/dist-packages/IPython/core/interactiveshell.py:2825: DtypeWarning: Columns (8,11) have mixed types. Specify dtype option on import or set low_memory=False.\n",
      "  if self.run_code(code, result):\n"
     ]
    }
   ],
   "source": [
    "import pandas as pd\n",
    "import numpy as np\n",
    "from GTC_function import *\n",
    "import networkx as nx\n",
    "from matplotlib import pyplot as plt\n",
    "%matplotlib inline"
   ]
  },
  {
   "cell_type": "code",
   "execution_count": 2,
   "metadata": {
    "collapsed": true
   },
   "outputs": [],
   "source": [
    "GT1920 = Graph_GT(year = 1920)"
   ]
  },
  {
   "cell_type": "code",
   "execution_count": 3,
   "metadata": {
    "collapsed": false,
    "scrolled": false
   },
   "outputs": [
    {
     "data": {
      "text/plain": [
       "['Africa',\n",
       " 'Angola',\n",
       " 'Asia',\n",
       " 'Belgium',\n",
       " 'Belgium & Luxemburg',\n",
       " 'British Asia',\n",
       " 'Brunei',\n",
       " 'Canada',\n",
       " \"China (People's Republic of China)\",\n",
       " 'Denmark',\n",
       " 'Estonia',\n",
       " 'Europe',\n",
       " 'Finland',\n",
       " 'France',\n",
       " 'French India',\n",
       " 'Germany',\n",
       " 'Guinea-Bissau (Portuguese Guinea)',\n",
       " 'Hawaii',\n",
       " 'Hong Kong',\n",
       " 'Indonesia (Dutch East Indies)',\n",
       " 'Italy',\n",
       " 'Japan',\n",
       " 'Korea (Chosen)',\n",
       " 'Kwangtung Territory (Leased)',\n",
       " 'Netherlands',\n",
       " 'New Zealand',\n",
       " 'Norway',\n",
       " 'Oceania',\n",
       " 'Philippines',\n",
       " 'Portugal',\n",
       " 'Russia/USSR',\n",
       " 'Sabah (North Borneo)',\n",
       " 'Sarawak',\n",
       " 'Spain',\n",
       " 'Sweden',\n",
       " 'Switzerland',\n",
       " 'Thailand (Siam)',\n",
       " 'United Kingdom',\n",
       " 'United States of America',\n",
       " 'World']"
      ]
     },
     "execution_count": 3,
     "metadata": {},
     "output_type": "execute_result"
    }
   ],
   "source": [
    "GT1920.country_list()"
   ]
  },
  {
   "cell_type": "code",
   "execution_count": 4,
   "metadata": {
    "collapsed": true
   },
   "outputs": [],
   "source": [
    "gra = GT1920.graph()"
   ]
  },
  {
   "cell_type": "code",
   "execution_count": 6,
   "metadata": {
    "collapsed": false
   },
   "outputs": [
    {
     "data": {
      "text/plain": [
       "['Canada',\n",
       " 'Russia/USSR',\n",
       " 'Oceania',\n",
       " 'Italy',\n",
       " 'Asia',\n",
       " 'France',\n",
       " 'Korea (Chosen)',\n",
       " 'Norway',\n",
       " 'Europe',\n",
       " 'Brunei',\n",
       " 'United States of America',\n",
       " 'Germany',\n",
       " 'Kwangtung Territory (Leased)',\n",
       " 'Belgium',\n",
       " 'World',\n",
       " 'Indonesia (Dutch East Indies)',\n",
       " 'Hong Kong',\n",
       " 'Belgium & Luxemburg',\n",
       " 'Spain',\n",
       " 'Netherlands',\n",
       " 'Sarawak',\n",
       " 'Denmark',\n",
       " 'Philippines',\n",
       " 'Finland',\n",
       " 'Hawaii',\n",
       " 'Sweden',\n",
       " 'Switzerland',\n",
       " 'New Zealand',\n",
       " 'Thailand (Siam)',\n",
       " 'Angola',\n",
       " 'Portugal',\n",
       " 'Estonia',\n",
       " 'French India',\n",
       " 'Africa',\n",
       " 'British Asia',\n",
       " 'United Kingdom',\n",
       " 'Sabah (North Borneo)',\n",
       " 'Guinea-Bissau (Portuguese Guinea)',\n",
       " \"China (People's Republic of China)\",\n",
       " 'Japan']"
      ]
     },
     "execution_count": 6,
     "metadata": {},
     "output_type": "execute_result"
    }
   ],
   "source": [
    "GT1920.graph().nodes()"
   ]
  },
  {
   "cell_type": "code",
   "execution_count": 8,
   "metadata": {
    "collapsed": false
   },
   "outputs": [
    {
     "data": {
      "text/plain": [
       "array([0, 0, 0, 0, 0, 0, 0, 0, 0, 0, 0, 0, 0, 0, 0, 0, 0, 0, 0, 0, 0, 0, 0,\n",
       "       0, 0, 1, 0, 0, 0, 2, 0, 0, 0, 0, 0, 0, 0, 0, 0, 0], dtype=int32)"
      ]
     },
     "execution_count": 8,
     "metadata": {},
     "output_type": "execute_result"
    }
   ],
   "source": [
    "spectral_clustering(dim_spec = 4,n_cluster = 3,graph = gra)"
   ]
  },
  {
   "cell_type": "code",
   "execution_count": null,
   "metadata": {
    "collapsed": true
   },
   "outputs": [],
   "source": []
  }
 ],
 "metadata": {
  "kernelspec": {
   "display_name": "Python 2",
   "language": "python",
   "name": "python2"
  },
  "language_info": {
   "codemirror_mode": {
    "name": "ipython",
    "version": 2
   },
   "file_extension": ".py",
   "mimetype": "text/x-python",
   "name": "python",
   "nbconvert_exporter": "python",
   "pygments_lexer": "ipython2",
   "version": "2.7.11+"
  }
 },
 "nbformat": 4,
 "nbformat_minor": 0
}
